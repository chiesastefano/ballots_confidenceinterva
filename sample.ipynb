{
 "cells": [
  {
   "metadata": {},
   "cell_type": "markdown",
   "source": [
    "# Confidence Interval of the percentage of votes for a party turing the ballot counting\n",
    "This code calculates the confidence interval of the percentage of votes for a party during the ballot counting. The code uses the percentage of votes for the party, the number of counted votes, and the total number of votes. The code also assumes the maximum possible sample variance.\n",
    "The confidence interval is adjusted for the percentage of votes counted."
   ],
   "id": "8a77807f92f26ee"
  },
  {
   "metadata": {},
   "cell_type": "code",
   "outputs": [],
   "execution_count": null,
   "source": [
    "import numpy as np\n",
    "from scipy.stats import norm\n",
    "s_estimate = 3.59 # Add here the percentage result of the party\n",
    "n = 11156128 # Counted votes\n",
    "N = 51314407*0.49 # Total votes"
   ],
   "id": "1890e2210f190dd3"
  },
  {
   "metadata": {},
   "cell_type": "code",
   "outputs": [
    {
     "name": "stdout",
     "output_type": "stream",
     "text": [
      "Intervallo di confidenza al 99%: (3.561239965066845, 3.618760034933155)\n"
     ]
    },
    {
     "data": {
      "text/plain": [
       "0.4436884199648903"
      ]
     },
     "execution_count": 8,
     "metadata": {},
     "output_type": "execute_result"
    }
   ],
   "execution_count": 8,
   "source": [
    "\n",
    "# sample variance (max possible)\n",
    "S_quad = 0.25\n",
    "S = np.sqrt(S_quad)\n",
    "\n",
    "# Confidence Interval 99.5%\n",
    "z = norm.ppf(0.995)\n",
    "\n",
    "# Sample estimate\n",
    "Y_bar = s_estimate / 100\n",
    "\n",
    "# percentage of counted votes\n",
    "f = n / N\n",
    "\n",
    "# standard error\n",
    "SE = S / np.sqrt(n-1) * np.sqrt(1 - f)\n",
    "\n",
    "# confidence interval ajusted for the percentage of votes\n",
    "IC = (Y_bar - z * SE, Y_bar + z * SE)\n",
    "\n",
    "# IC*100\n",
    "IC_percent = (IC[0] * 100, IC[1] * 100)\n",
    "\n",
    "print(\"Confidence interval 99%:\", IC_percent)\n",
    "print(\"% Counted votes:\", f)"
   ],
   "id": "fbc121e30a2defb3"
  }
 ],
 "metadata": {
  "kernelspec": {
   "display_name": "Python 3",
   "language": "python",
   "name": "python3"
  },
  "language_info": {
   "codemirror_mode": {
    "name": "ipython",
    "version": 2
   },
   "file_extension": ".py",
   "mimetype": "text/x-python",
   "name": "python",
   "nbconvert_exporter": "python",
   "pygments_lexer": "ipython2",
   "version": "2.7.6"
  }
 },
 "nbformat": 4,
 "nbformat_minor": 5
}
